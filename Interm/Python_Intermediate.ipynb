{
 "cells": [
  {
   "cell_type": "markdown",
   "id": "bf4d9efd",
   "metadata": {
    "slideshow": {
     "slide_type": "slide"
    }
   },
   "source": [
    "<h1><font color=#2a7bbd face=\"Trebuchet MS\">Python Intermediate Session</font></h1>"
   ]
  },
  {
   "cell_type": "markdown",
   "id": "658f4b63",
   "metadata": {
    "slideshow": {
     "slide_type": "slide"
    }
   },
   "source": [
    "<h2><font color=#2a7bbd face=\"Trebuchet MS\">Indexing and Slicing</font></h2>"
   ]
  },
  {
   "cell_type": "markdown",
   "id": "e1b55a2e",
   "metadata": {
    "slideshow": {
     "slide_type": "subslide"
    }
   },
   "source": [
    "![Python Indexing and Slicing](img/index_slice.png)"
   ]
  },
  {
   "cell_type": "code",
   "execution_count": 23,
   "id": "37292947",
   "metadata": {
    "slideshow": {
     "slide_type": "subslide"
    }
   },
   "outputs": [],
   "source": [
    "# Code"
   ]
  },
  {
   "cell_type": "markdown",
   "id": "d67bb02f",
   "metadata": {
    "slideshow": {
     "slide_type": "slide"
    }
   },
   "source": [
    "<h2><font color=#2a7bbd face=\"Trebuchet MS\">Comprehensions</font></h2>"
   ]
  },
  {
   "cell_type": "markdown",
   "id": "d03b7e2c",
   "metadata": {},
   "source": [
    "1 liners used to create iterables and also referenced to a variable"
   ]
  },
  {
   "cell_type": "code",
   "execution_count": 27,
   "id": "2f695a51",
   "metadata": {
    "slideshow": {
     "slide_type": "subslide"
    }
   },
   "outputs": [],
   "source": [
    "# List Comprehension"
   ]
  },
  {
   "cell_type": "code",
   "execution_count": 28,
   "id": "57d5596c",
   "metadata": {
    "slideshow": {
     "slide_type": "subslide"
    }
   },
   "outputs": [],
   "source": [
    "# Set Comprehension"
   ]
  },
  {
   "cell_type": "code",
   "execution_count": 29,
   "id": "b4d56194",
   "metadata": {
    "slideshow": {
     "slide_type": "subslide"
    }
   },
   "outputs": [],
   "source": [
    "# Dictionary Comprehension"
   ]
  },
  {
   "cell_type": "markdown",
   "id": "922b42e2",
   "metadata": {
    "slideshow": {
     "slide_type": "slide"
    }
   },
   "source": [
    "<h2><font color=#2a7bbd face=\"Trebuchet MS\">Python Methods</font></h2>"
   ]
  },
  {
   "cell_type": "markdown",
   "id": "41eaa52c",
   "metadata": {},
   "source": [
    "- Method is called by its name, but it is associated to an object (dependent)\n",
    "\n",
    "- Method is implicitly passed the object on which it is invoked.\n",
    "\n",
    "- It may or may not return any data.\n",
    "\n",
    "- Method can operate on the data (instance variables) that is contained by a class"
   ]
  },
  {
   "cell_type": "code",
   "execution_count": 33,
   "id": "6c65b3a7",
   "metadata": {
    "slideshow": {
     "slide_type": "subslide"
    }
   },
   "outputs": [],
   "source": [
    "# String Methods"
   ]
  },
  {
   "cell_type": "code",
   "execution_count": 34,
   "id": "0b9b9ce9",
   "metadata": {
    "slideshow": {
     "slide_type": "subslide"
    }
   },
   "outputs": [],
   "source": [
    "# List Methods"
   ]
  },
  {
   "cell_type": "code",
   "execution_count": 35,
   "id": "a378f79c",
   "metadata": {
    "slideshow": {
     "slide_type": "subslide"
    }
   },
   "outputs": [],
   "source": [
    "# Set Methods"
   ]
  },
  {
   "cell_type": "code",
   "execution_count": 36,
   "id": "e958657e",
   "metadata": {
    "slideshow": {
     "slide_type": "subslide"
    }
   },
   "outputs": [],
   "source": [
    "# Tuple Methods"
   ]
  },
  {
   "cell_type": "code",
   "execution_count": 40,
   "id": "a4c58784",
   "metadata": {
    "slideshow": {
     "slide_type": "subslide"
    }
   },
   "outputs": [],
   "source": [
    "# Dictionary Methods"
   ]
  },
  {
   "cell_type": "markdown",
   "id": "a9564039",
   "metadata": {
    "slideshow": {
     "slide_type": "slide"
    }
   },
   "source": [
    "<h2><font color=#2a7bbd face=\"Trebuchet MS\">Python Functions</font></h2>\n"
   ]
  },
  {
   "cell_type": "markdown",
   "id": "c5ddf5b1",
   "metadata": {},
   "source": [
    "![Function Example.png](img/functions.png)"
   ]
  },
  {
   "cell_type": "markdown",
   "id": "98b6a5b1",
   "metadata": {
    "slideshow": {
     "slide_type": "subslide"
    }
   },
   "source": [
    "- ***A self-contained block of code that encapsulates a specific task or related group of tasks***\n",
    "\n",
    "- ***Code re-usage***"
   ]
  },
  {
   "attachments": {},
   "cell_type": "markdown",
   "id": "054ed093",
   "metadata": {
    "slideshow": {
     "slide_type": "subslide"
    }
   },
   "source": [
    "![Function Example.png](img/functions_example.png)"
   ]
  },
  {
   "cell_type": "code",
   "execution_count": 43,
   "id": "fa79b018",
   "metadata": {
    "slideshow": {
     "slide_type": "subslide"
    }
   },
   "outputs": [],
   "source": [
    "# Code"
   ]
  }
 ],
 "metadata": {
  "celltoolbar": "Slideshow",
  "kernelspec": {
   "display_name": "Python 3 (ipykernel)",
   "language": "python",
   "name": "python3"
  },
  "language_info": {
   "codemirror_mode": {
    "name": "ipython",
    "version": 3
   },
   "file_extension": ".py",
   "mimetype": "text/x-python",
   "name": "python",
   "nbconvert_exporter": "python",
   "pygments_lexer": "ipython3",
   "version": "3.9.7"
  }
 },
 "nbformat": 4,
 "nbformat_minor": 5
}
