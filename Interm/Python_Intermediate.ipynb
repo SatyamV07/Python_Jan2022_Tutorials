{
 "cells": [
  {
   "cell_type": "markdown",
   "id": "bf4d9efd",
   "metadata": {
    "slideshow": {
     "slide_type": "slide"
    }
   },
   "source": [
    "<h1><font color=#2a7bbd face=\"Trebuchet MS\">Python Intermediate Session</font></h1>"
   ]
  },
  {
   "cell_type": "markdown",
   "id": "658f4b63",
   "metadata": {
    "slideshow": {
     "slide_type": "slide"
    }
   },
   "source": [
    "<h2><font color=#2a7bbd face=\"Trebuchet MS\">Indexing and Slicing</font></h2>"
   ]
  },
  {
   "cell_type": "markdown",
   "id": "e1b55a2e",
   "metadata": {
    "slideshow": {
     "slide_type": "subslide"
    }
   },
   "source": [
    "![Python Indexing and Slicing](img/index_slice.png)"
   ]
  },
  {
   "cell_type": "code",
   "execution_count": 13,
   "id": "37292947",
   "metadata": {
    "slideshow": {
     "slide_type": "subslide"
    }
   },
   "outputs": [
    {
     "name": "stdout",
     "output_type": "stream",
     "text": [
      "['spam', 'ham', 'egg', 'bacon', 'spring', 'boot']\n",
      "Length of the List L1 = 6\n",
      "L1[3] = 'bacon'\n",
      "L1[-2] = 'spring'\n",
      "L1[4] = 'spring'\n",
      "L1[-6] = 'spam'\n",
      "L1[1] = 'ham'\n",
      "L1[0:1] = ['spam']\n",
      "L1[0:2] = ['spam', 'ham']\n",
      "L1[0:3] = ['spam', 'ham', 'egg']\n",
      "L1[3:6] = ['bacon', 'spring', 'boot']\n",
      "L1[:] = ['spam', 'ham', 'egg', 'bacon', 'spring', 'boot']\n",
      "L1[::] = ['spam', 'ham', 'egg', 'bacon', 'spring', 'boot']\n",
      "L1[-6:-1] = ['spam', 'ham', 'egg', 'bacon', 'spring']\n",
      "L1[-6:-2] = ['spam', 'ham', 'egg', 'bacon']\n",
      "L1[-6:-3] = ['spam', 'ham', 'egg']\n",
      "L1[-6:-4] = ['spam', 'ham']\n",
      "L1[-6:-5] = ['spam']\n",
      "L1[::2] = ['spam', 'egg', 'spring']\n",
      "L1[2::2] = ['egg', 'spring']\n",
      "L1[::-1] = ['boot', 'spring', 'bacon', 'egg', 'ham', 'spam']\n",
      "L1[-3::-2] = ['bacon', 'ham']\n"
     ]
    }
   ],
   "source": [
    "# Code\n",
    "L1 = [\"spam\", \"ham\", \"egg\", \"bacon\", \"spring\", \"boot\"]\n",
    "print(L1)\n",
    "# number of elements in list L1 = length of L1 = 6\n",
    "print(f\"Length of the List L1 = {len(L1)}\")\n",
    "\n",
    "# Indexing\n",
    "\n",
    "print(f\"{L1[3] = }\")\n",
    "print(f\"{L1[-2] = }\")\n",
    "print(f\"{L1[4] = }\")\n",
    "print(f\"{L1[-6] = }\")\n",
    "print(f\"{L1[1] = }\")\n",
    "\n",
    "# Forward Index Slicing\n",
    "# L1[start:stop:step] ==> Output: start(index):stop(index)-1\n",
    "\n",
    "print(f\"{L1[0:1] = }\")\n",
    "print(f\"{L1[0:2] = }\")\n",
    "print(f\"{L1[0:3] = }\")\n",
    "print(f\"{L1[3:6] = }\")\n",
    "print(f\"{L1[:] = }\")\n",
    "print(f\"{L1[::] = }\")\n",
    "\n",
    "# L1 = [\"spam\", \"ham\", \"egg\", \"bacon\", \"spring\", \"boot\"]\n",
    "\n",
    "# Reverse Index slicing\n",
    "print(f\"{L1[-6:-1] = }\")\n",
    "print(f\"{L1[-6:-2] = }\")\n",
    "print(f\"{L1[-6:-3] = }\")\n",
    "print(f\"{L1[-6:-4] = }\")\n",
    "print(f\"{L1[-6:-5] = }\")\n",
    "\n",
    "# Forward Listing using step values\n",
    "\n",
    "print(f\"{L1[::2] = }\")\n",
    "print(f\"{L1[2::2] = }\")\n",
    "\n",
    "# Reverse Listing\n",
    "print(f\"{L1[::-1] = }\")\n",
    "print(f\"{L1[-3::-2] = }\")\n"
   ]
  },
  {
   "cell_type": "markdown",
   "id": "d67bb02f",
   "metadata": {
    "slideshow": {
     "slide_type": "slide"
    }
   },
   "source": [
    "<h2><font color=#2a7bbd face=\"Trebuchet MS\">Comprehensions</font></h2>"
   ]
  },
  {
   "cell_type": "markdown",
   "id": "d03b7e2c",
   "metadata": {},
   "source": [
    "1 liners used to create iterables and also referenced to a variable"
   ]
  },
  {
   "cell_type": "code",
   "execution_count": 50,
   "id": "2f695a51",
   "metadata": {
    "slideshow": {
     "slide_type": "subslide"
    }
   },
   "outputs": [
    {
     "name": "stdout",
     "output_type": "stream",
     "text": [
      "Traditional Way\n",
      "===============\n",
      "['HI', 'THERE', 'HOW', 'ARE', 'YOU']\n",
      "\n",
      "Comprehensive Way\n",
      "=================\n",
      "['HI', 'THERE', 'HOW', 'ARE', 'YOU']\n",
      "\n",
      "[0, 1, 2, 3, 4, 5, 6, 7, 8, 9]\n",
      "[0, 2, 4, 6, 8, 10, 12, 14, 16, 18]\n",
      "[6, 7, 8, 9]\n",
      "HI\n",
      "THERE\n",
      "HOW\n",
      "ARE\n",
      "YOU\n"
     ]
    }
   ],
   "source": [
    "# List Comprehension\n",
    "# Basic for loop\n",
    "\n",
    "# for element in ['Hi', 'there', 'how', 'are', 'you']:\n",
    "#     print(element)\n",
    "\n",
    "# output = [\"HI\", \"THERE\", \"HOW\", \"ARE\", \"YOU\"]\n",
    "\n",
    "print(\"Traditional Way\")\n",
    "print(len(\"Traditional Way\")*\"=\")\n",
    "output = []\n",
    "for element in ['Hi', 'there', 'how', 'are', 'you']:\n",
    "    output.append(element.upper())\n",
    "\n",
    "print(output)\n",
    "   \n",
    "# step 1: get the value \"Hi\" to element variable\n",
    "# step 2: capitalize the \"Hi\" ==> \"HI\" in same element variable (upper method is being used)\n",
    "# step 3. put this \"HI\" into the list output (append method is being used)\n",
    "\n",
    "print()\n",
    "\n",
    "print(\"Comprehensive Way\")\n",
    "print(len(\"Comprehensive Way\")*\"=\")\n",
    "output = [element.upper() for element in ['Hi', 'there', 'how', 'are', 'you']]\n",
    "print(output)\n",
    "\n",
    "# step 1: create a variable output\n",
    "# step 2: using list ([]) use the for loop construct inside it\n",
    "# step 3: [<output> for <element> in <iterable>]\n",
    "\n",
    "print()\n",
    "# Example 2\n",
    "\n",
    "# for i in list(range(10)):\n",
    "#     print(i*2)\n",
    "\n",
    "range_of_numbers = list(range(10)) # this is an iterable\n",
    "multiplies_of_2 = [i*2 for i in range_of_numbers] # The output is also an iterable but multiplies of 2\n",
    "divisible_by_2 = [i for i in range_of_numbers if i > 5]\n",
    "\n",
    "print(range_of_numbers)\n",
    "print(multiplies_of_2)\n",
    "print(divisible_by_2)"
   ]
  },
  {
   "cell_type": "code",
   "execution_count": 67,
   "id": "57d5596c",
   "metadata": {
    "slideshow": {
     "slide_type": "subslide"
    }
   },
   "outputs": [
    {
     "name": "stdout",
     "output_type": "stream",
     "text": [
      "{0, 1, 2, 3, 4, 5, 6, 7, 8, 9}\n",
      "{0, 2, 4, 6, 8, 10, 12, 14, 16, 18}\n",
      "{8, 6}\n",
      "{0, 3, 6, 7, 8, 9, 12, 15}\n"
     ]
    }
   ],
   "source": [
    "# Set Comprehension\n",
    "\n",
    "range_of_numbers = set(range(10)) # this is an iterable\n",
    "\n",
    "multiplies_of_2 = {i*2 for i in range_of_numbers} # The output is also an iterable but multiplies of 2\n",
    "\n",
    "divisible_by_2 = {i for i in range_of_numbers if i > 5 if i % 2 == 0}\n",
    "\n",
    "divisible_by_2_elsecase = {i if i > 5 else i*3 for i in range_of_numbers } # if else case inside comprehension\n",
    "\n",
    "print(range_of_numbers)\n",
    "print(multiplies_of_2)\n",
    "print(divisible_by_2)\n",
    "print(divisible_by_2_elsecase)\n"
   ]
  },
  {
   "cell_type": "code",
   "execution_count": 76,
   "id": "b4d56194",
   "metadata": {
    "slideshow": {
     "slide_type": "subslide"
    }
   },
   "outputs": [
    {
     "name": "stdout",
     "output_type": "stream",
     "text": [
      "{'a': 100, 'b': 222, 'c': 3000}\n",
      "a 100\n",
      "b 222\n",
      "c 3000\n",
      "{'A': 200, 'B': 444, 'C': 6000}\n"
     ]
    }
   ],
   "source": [
    "# Dictionary Comprehension\n",
    "d1 = {\"a\": 100, \"b\": 222, \"c\": 3000}\n",
    "print(d1)\n",
    "\n",
    "for key, value in d1.items():\n",
    "    print(key, value)\n",
    "\n",
    "multiplied_d1 = {key.upper(): value*2 for key, value in d1.items()}\n",
    "print(multiplied_d1)"
   ]
  },
  {
   "cell_type": "markdown",
   "id": "922b42e2",
   "metadata": {
    "slideshow": {
     "slide_type": "slide"
    }
   },
   "source": [
    "<h2><font color=#2a7bbd face=\"Trebuchet MS\">Python Methods</font></h2>"
   ]
  },
  {
   "cell_type": "markdown",
   "id": "41eaa52c",
   "metadata": {},
   "source": [
    "- Method is called by its name, but it is associated to an object (dependent)\n",
    "\n",
    "- Method is implicitly passed the object on which it is invoked.\n",
    "\n",
    "- It may or may not return any data.\n",
    "\n",
    "- Method can operate on the data (instance variables) that is contained by a class"
   ]
  },
  {
   "cell_type": "code",
   "execution_count": 7,
   "id": "6c65b3a7",
   "metadata": {
    "slideshow": {
     "slide_type": "subslide"
    }
   },
   "outputs": [
    {
     "name": "stdout",
     "output_type": "stream",
     "text": [
      "this is using function : [78, 79, 80, 81, 82, 83, 84, 85, 86, 87]\n",
      "this is using method associated with a class 'Addition' : [78, 79, 80, 81, 82, 83, 84, 85, 86, 87]\n"
     ]
    }
   ],
   "source": [
    "# Basic Class\n",
    "\n",
    "def add_numbers(x, y): # This is a function\n",
    "    return x + y \n",
    "\n",
    "print(\"this is using function :\",[add_numbers(78, y) for y in range(10)])\n",
    "\n",
    "class Addition:\n",
    "    def add_numbers(x, y): # This is a method\n",
    "        return x + y\n",
    "\n",
    "print(\"this is using method associated with a class 'Addition' :\",[Addition.add_numbers(78, y) for y in range(10)])"
   ]
  },
  {
   "cell_type": "code",
   "execution_count": 65,
   "id": "cae22fb0",
   "metadata": {
    "slideshow": {
     "slide_type": "subslide"
    }
   },
   "outputs": [
    {
     "name": "stdout",
     "output_type": "stream",
     "text": [
      "<class 'str'>\n",
      "<class 'list'>\n",
      "<class 'set'>\n",
      "<class 'tuple'>\n",
      "<class 'dict'>\n"
     ]
    }
   ],
   "source": [
    "string1 = \"iOS\"\n",
    "list1 = \"foa bar baz jaaz baaz\".split()\n",
    "set1 = set(list1)\n",
    "tuple1 = tuple(list1)\n",
    "dictionary1 = dict(name=\"xyz\", place=\"aaa\")\n",
    "\n",
    "print(type(string1))\n",
    "print(type(list1))\n",
    "print(type(set1))\n",
    "print(type(tuple1))\n",
    "print(type(dictionary1))"
   ]
  },
  {
   "cell_type": "code",
   "execution_count": 1,
   "id": "a909abdd",
   "metadata": {
    "slideshow": {
     "slide_type": "subslide"
    }
   },
   "outputs": [
    {
     "name": "stdout",
     "output_type": "stream",
     "text": [
      "True\n",
      "['__add__', '__class__', '__contains__', '__delattr__', '__dir__', '__doc__', '__eq__', '__format__', '__ge__', '__getattribute__', '__getitem__', '__getnewargs__', '__gt__', '__hash__', '__init__', '__init_subclass__', '__iter__', '__le__', '__len__', '__lt__', '__mod__', '__mul__', '__ne__', '__new__', '__reduce__', '__reduce_ex__', '__repr__', '__rmod__', '__rmul__', '__setattr__', '__sizeof__', '__str__', '__subclasshook__', 'capitalize', 'casefold', 'center', 'count', 'encode', 'endswith', 'expandtabs', 'find', 'format', 'format_map', 'index', 'isalnum', 'isalpha', 'isascii', 'isdecimal', 'isdigit', 'isidentifier', 'islower', 'isnumeric', 'isprintable', 'isspace', 'istitle', 'isupper', 'join', 'ljust', 'lower', 'lstrip', 'maketrans', 'partition', 'removeprefix', 'removesuffix', 'replace', 'rfind', 'rindex', 'rjust', 'rpartition', 'rsplit', 'rstrip', 'split', 'splitlines', 'startswith', 'strip', 'swapcase', 'title', 'translate', 'upper', 'zfill']\n",
      "====================================================================================================\n",
      "\n",
      "These are the methods available for string class under string_1 variable, these string_1 methods would be \n",
      "the same as dir(str)\n",
      "\n",
      "string_1.upper() = 'FOO BAR BAZ JAZZ BAZZ'\n",
      "string_1.lower() = 'foo bar baz jazz bazz'\n",
      "string_1.title() = 'Foo Bar Baz Jazz Bazz'\n",
      "string_1.capitalize() = 'Foo bar baz jazz bazz'\n",
      "string_1.startswith('foo Ba') = True\n",
      "string_1.endswith('  bazz') = False\n",
      "string_1.lower().count('ba') = 3\n",
      "string_1.split() = ['foo', 'Bar', 'baz', 'jazz', 'bazz']\n",
      "foo Bar baz jazz bazz and FOO BAR BAZ JAZZ BAZZ\n",
      "FOO BAR BAZ JAZZ BAZZ and foo Bar baz jazz bazz\n",
      "FOO BAR BAZ JAZZ BAZZ and foo Bar baz jazz bazz\n",
      "string_3.strip() = 'foo Bar baz jazz bazz'\n",
      "string_1.isalpha() = False\n",
      "string_1.split()[0].isalpha() = True\n",
      "string_2.isdigit() = False\n",
      "'6755540000'.isdigit() = True\n",
      "'     '.isspace() = True\n",
      "string_1.index('ar') = 5\n",
      "string_1.replace('foo', 'zoo') = 'zoo Bar baz jazz bazz'\n",
      "foo Bar baz jazz bazz\n"
     ]
    }
   ],
   "source": [
    "# String Methods\n",
    "\n",
    "string_1 = \"foo Bar baz jazz bazz\"\n",
    "string_2 = \"-228738426\"\n",
    "string_3 = \"       {}        \".format(string_1)\n",
    "string_4 = \"{}.77276\".format(string_2)\n",
    "\n",
    "print(dir(str) == dir(string_1))\n",
    "print(dir(str))\n",
    "print(\"=\"*100)\n",
    "print(\n",
    "    \"\"\"\n",
    "These are the methods available for string class under string_1 variable, these string_1 methods would be \n",
    "the same as dir(str)\n",
    "\"\"\")\n",
    "\n",
    "print(f\"{string_1.upper() = }\")\n",
    "print(f\"{string_1.lower() = }\")\n",
    "print(f\"{string_1.title() = }\")\n",
    "print(f\"{string_1.capitalize() = }\")\n",
    "print(f\"{string_1.startswith('foo Ba') = }\")\n",
    "print(f\"{string_1.endswith('  bazz') = }\")\n",
    "print(f\"{string_1.lower().count('ba') = }\")\n",
    "print(f\"{string_1.split() = }\")\n",
    "print(\"{} and {}\".format(string_1, string_1.upper()))\n",
    "print(\"{} and {}\".format(string_1.upper(), string_1))\n",
    "print(\"{1} and {0}\".format(string_1, string_1.upper()))\n",
    "print(f\"{string_3.strip() = }\")\n",
    "print(f\"{string_1.isalpha() = }\")\n",
    "print(f\"{string_1.split()[0].isalpha() = }\")\n",
    "print(f\"{string_2.isdigit() = }\")\n",
    "print(f\"{'6755540000'.isdigit() = }\")\n",
    "print(f\"{'     '.isspace() = }\")\n",
    "print(f\"{string_1.index('ar') = }\")\n",
    "print(f\"{string_1.replace('foo', 'zoo') = }\")\n",
    "print(string_1)"
   ]
  },
  {
   "cell_type": "code",
   "execution_count": 97,
   "id": "0b9b9ce9",
   "metadata": {
    "slideshow": {
     "slide_type": "subslide"
    }
   },
   "outputs": [
    {
     "name": "stdout",
     "output_type": "stream",
     "text": [
      "True\n",
      "['__add__', '__class__', '__class_getitem__', '__contains__', '__delattr__', '__delitem__', '__dir__', '__doc__', '__eq__', '__format__', '__ge__', '__getattribute__', '__getitem__', '__gt__', '__hash__', '__iadd__', '__imul__', '__init__', '__init_subclass__', '__iter__', '__le__', '__len__', '__lt__', '__mul__', '__ne__', '__new__', '__reduce__', '__reduce_ex__', '__repr__', '__reversed__', '__rmul__', '__setattr__', '__setitem__', '__sizeof__', '__str__', '__subclasshook__', 'append', 'clear', 'copy', 'count', 'extend', 'index', 'insert', 'pop', 'remove', 'reverse', 'sort']\n",
      "====================================================================================================\n",
      "\n",
      "These are the methods available for list class under L1 variable, also these \n",
      "methods would be the same as dir(list)\n",
      "\n",
      "====================================================================================================\n",
      "L1 = [1, 2.0, (3+4j), 2.0, '0b11111010000', '0x97', '0o32', [8, 7, 6], (100, 200), (100, 200), 'apple', 'N', {89, 67, 45, 78}, {'a': 10, 'b': 20}]\n",
      "\n",
      "L1.append([100, 1000] = [1, 2.0, (3+4j), 2.0, '0b11111010000', '0x97', '0o32', [8, 7, 6], (100, 200), (100, 200), 'apple', 'N', {89, 67, 45, 78}, {'a': 10, 'b': 20}, [100, 1000]]\n",
      "\n",
      "L1.extend([1000, 1000, 1000, 1000, 1000] = [1, 2.0, (3+4j), 2.0, '0b11111010000', '0x97', '0o32', [8, 7, 6], (100, 200), (100, 200), 'apple', 'N', {89, 67, 45, 78}, {'a': 10, 'b': 20}, [100, 1000], 1000, 1000, 1000, 1000, 1000]\n",
      "\n",
      "L1.count((100, 200)) = 2\n",
      "\n",
      "L1.insert(7, (300, 400)) = [1, 2.0, (3+4j), 2.0, '0b11111010000', '0x97', '0o32', (300, 400), [8, 7, 6], (100, 200), (100, 200), 'apple', 'N', {89, 67, 45, 78}, {'a': 10, 'b': 20}, [100, 1000], 1000, 1000, 1000, 1000, 1000]\n",
      "\n",
      "L1.pop() = [1, 2.0, (3+4j), 2.0, '0b11111010000', '0x97', '0o32', (300, 400), [8, 7, 6], (100, 200), (100, 200), 'apple', 'N', {89, 67, 45, 78}, {'a': 10, 'b': 20}, [100, 1000], 1000, 1000, 1000, 1000]\n",
      "\n",
      "L1.pop(-5) = [1, 2.0, (3+4j), 2.0, '0b11111010000', '0x97', '0o32', (300, 400), [8, 7, 6], (100, 200), (100, 200), 'apple', 'N', {89, 67, 45, 78}, {'a': 10, 'b': 20}, 1000, 1000, 1000, 1000]\n",
      "\n",
      "L1.remove('0x97') = [1, 2.0, (3+4j), 2.0, '0b11111010000', '0o32', (300, 400), [8, 7, 6], (100, 200), (100, 200), 'apple', 'N', {89, 67, 45, 78}, {'a': 10, 'b': 20}, 1000, 1000, 1000, 1000]\n",
      "\n",
      "L1.reverse() = [1000, 1000, 1000, 1000, {'a': 10, 'b': 20}, {89, 67, 45, 78}, 'N', 'apple', (100, 200), (100, 200), [8, 7, 6], (300, 400), '0o32', '0b11111010000', 2.0, (3+4j), 2.0, 1]\n",
      "\n",
      "L1 = []\n"
     ]
    }
   ],
   "source": [
    "# List Methods\n",
    "L1 = [\n",
    "    1,\n",
    "    2.0,\n",
    "    3 + 4j,\n",
    "    2.0,\n",
    "    bin(2000),\n",
    "    hex(151),\n",
    "    oct(26),\n",
    "    [\n",
    "        8,\n",
    "        7,\n",
    "        6,\n",
    "    ],\n",
    "    (100, 200),\n",
    "    (100, 200),\n",
    "    \"apple\",\n",
    "    \"N\",\n",
    "    {89, 78, 67, 45},\n",
    "    dict(a=10, b=20),\n",
    "]\n",
    "print(dir(list) == dir(L1))\n",
    "print(dir(list))\n",
    "print(\"=\"*100)\n",
    "print(\"\"\"\n",
    "These are the methods available for list class under L1 variable, also these \n",
    "methods would be the same as dir(list)\n",
    "\"\"\")\n",
    "print(\"=\"*100)\n",
    "print(f\"{L1 = }\")\n",
    "print()\n",
    "L1.append([100, 1000])\n",
    "print(f\"L1.append([100, 1000] = {L1}\")\n",
    "print()\n",
    "L1.extend([1000, 1000, 1000, 1000, 1000])\n",
    "print(f\"L1.extend([1000, 1000, 1000, 1000, 1000] = {L1}\")\n",
    "print()\n",
    "print(f\"{L1.count((100, 200)) = }\")\n",
    "print()\n",
    "L1.insert(7, (300, 400))\n",
    "print(f\"L1.insert(7, (300, 400)) = {L1}\")\n",
    "print()\n",
    "L1.pop() # Default last element\n",
    "print(f\"L1.pop() = {L1}\") \n",
    "print()\n",
    "L1.pop(-5) # Using index number\n",
    "print(f\"L1.pop(-5) = {L1}\")\n",
    "print()\n",
    "L1.remove('0x97') # Using Element in the list\n",
    "print(f\"L1.remove('0x97') = {L1}\")\n",
    "print()\n",
    "L1.reverse()\n",
    "print(f\"L1.reverse() = {L1}\")\n",
    "print()\n",
    "L1.clear()\n",
    "print(f\"{L1 = }\")"
   ]
  },
  {
   "cell_type": "code",
   "execution_count": 48,
   "id": "a378f79c",
   "metadata": {
    "slideshow": {
     "slide_type": "subslide"
    }
   },
   "outputs": [
    {
     "name": "stdout",
     "output_type": "stream",
     "text": [
      "\n",
      "These are the methods available for set class under a, b, c, d variables, also these \n",
      "methods would be the same as dir(set)\n",
      "====================================================================================================\n",
      "True\n",
      "['__and__', '__class__', '__class_getitem__', '__contains__', '__delattr__', '__dir__', '__doc__', '__eq__', '__format__', '__ge__', '__getattribute__', '__gt__', '__hash__', '__iand__', '__init__', '__init_subclass__', '__ior__', '__isub__', '__iter__', '__ixor__', '__le__', '__len__', '__lt__', '__ne__', '__new__', '__or__', '__rand__', '__reduce__', '__reduce_ex__', '__repr__', '__ror__', '__rsub__', '__rxor__', '__setattr__', '__sizeof__', '__str__', '__sub__', '__subclasshook__', '__xor__', 'add', 'clear', 'copy', 'difference', 'difference_update', 'discard', 'intersection', 'intersection_update', 'isdisjoint', 'issubset', 'issuperset', 'pop', 'remove', 'symmetric_difference', 'symmetric_difference_update', 'union', 'update']\n",
      "\n",
      "a.union(b) = {1, 2, 3, 4, 5, 6}\n",
      "a.union(b, c, d) = {1, 2, 3, 4, 5, 6, 7, 8}\n",
      "a.union([8, 9, 10]) = {1, 2, 3, 4, 5, 8, 9, 10}\n",
      "a.union(dict(apple='red')) = {'apple', 1, 2, 3, 4, 5}\n",
      "same of a.union(b) : a | b = {1, 2, 3, 4, 5, 6}\n",
      "{'foo', 'baz', 'bar'}\n",
      "{'quux', 'baz', 'qux'}\n",
      "x1 | x2 = {'foo', 'quux', 'baz', 'qux', 'bar'}\n",
      "x1.union(x2) = {'foo', 'quux', 'baz', 'qux', 'bar'}\n",
      "x1.union(('baz', 'qux', 'quux')) = {'foo', 'bar', 'quux', 'baz', 'qux'}\n"
     ]
    }
   ],
   "source": [
    "# Set Methods\n",
    "\n",
    "a = {1, 2, 3, 4, 5}\n",
    "b = {2, 3, 4, 5, 6}\n",
    "c = {3, 4, 5, 6, 7}\n",
    "d = {4, 5, 6, 7, 8}\n",
    "\n",
    "print(\"\"\"\n",
    "These are the methods available for set class under a, b, c, d variables, also these \n",
    "methods would be the same as dir(set)\"\"\")\n",
    "print(\"=\"*100)\n",
    "print(dir(set) == dir(a))\n",
    "print(dir(set))\n",
    "print()\n",
    "print(f\"{a.union(b) = }\") # Union of \n",
    "print(f\"{a.union(b, c, d) = }\")\n",
    "print(f\"{a.union([8, 9, 10]) = }\")\n",
    "print(f\"{a.union(dict(apple='red')) = }\")\n",
    "print(f\"same of a.union(b) : {a | b = }\") # Union of a and b, objects should be always set if we use | operator\n",
    "x1 = set(\"foo bar baz\".split())\n",
    "x2 = set(\"baz qux quux\".split())\n",
    "print(x1)\n",
    "print(x2)\n",
    "print(f\"{x1 | x2 = }\")\n",
    "print(f\"{x1.union(x2) = }\")\n",
    "print(f\"{x1.union(('baz', 'qux', 'quux')) = }\")"
   ]
  },
  {
   "cell_type": "code",
   "execution_count": 49,
   "id": "637dfbbe",
   "metadata": {},
   "outputs": [
    {
     "name": "stdout",
     "output_type": "stream",
     "text": [
      "\n",
      "a.intersection(b) = {2, 3, 4, 5}\n",
      "a.intersection(b, c, d) = {4, 5}\n",
      "same as a.intersection(b) : a & b = {2, 3, 4, 5}\n",
      "same as a.intersection(b, c, d) : a & b & c & d = {4, 5}\n",
      "\n"
     ]
    }
   ],
   "source": [
    "\n",
    "print()\n",
    "print(f\"{a.intersection(b) = }\") # a Intersection of b\n",
    "print(f\"{a.intersection(b, c, d) = }\") # a Intersection of b\n",
    "print(f\"same as a.intersection(b) : {a & b = }\") # a Intersection of b, c, d\n",
    "print(f\"same as a.intersection(b, c, d) : {a & b & c & d = }\") # a Intersection of b, c, d\n",
    "print()"
   ]
  },
  {
   "cell_type": "code",
   "execution_count": 50,
   "id": "25fead47",
   "metadata": {},
   "outputs": [
    {
     "name": "stdout",
     "output_type": "stream",
     "text": [
      "Difference of multiple sets is the set of only the elements \n",
      "that exists in first set but not in any of the rest\n",
      "a.difference(b) = {1}\n",
      "b.difference(a) = {6}\n",
      "a.difference(b, c, d) = {1}\n",
      "same of a.difference(b):  a - b = {1}\n",
      "same of a.difference(b, c, d):  a - b - c - d = {1}\n",
      "same of a.difference(b, c, d):  c - a - b - d = set()\n",
      "\n"
     ]
    }
   ],
   "source": [
    "print(\"\"\"Difference of multiple sets is the set of only the elements \n",
    "that exists in first set but not in any of the rest\"\"\")\n",
    "print(f\"{a.difference(b) = }\")\n",
    "print(f\"{b.difference(a) = }\")\n",
    "print(f\"{a.difference(b, c, d) = }\")\n",
    "print(f\"same of a.difference(b): { a - b = }\")\n",
    "print(f\"same of a.difference(b, c, d): { a - b - c - d = }\")\n",
    "print(f\"same of a.difference(b, c, d): { c - a - b - d = }\")\n",
    "print()\n"
   ]
  },
  {
   "cell_type": "code",
   "execution_count": 112,
   "id": "26f89bea",
   "metadata": {},
   "outputs": [
    {
     "name": "stdout",
     "output_type": "stream",
     "text": [
      "Symmetric difference of multiple sets is the set of only\n",
      "the elements that exists in a single set, but not in multuple\n",
      "a.symmetric_difference(b) = {1, 50, 5, 10}\n",
      "a ^ b ^ c  = {100, 5, 10}\n"
     ]
    }
   ],
   "source": [
    "\n",
    "a = {1, 2, 3, 4, 5}\n",
    "b = {10, 2, 3, 4, 50}\n",
    "c = {1, 50, 100}\n",
    "print(\"\"\"Symmetric difference of multiple sets is the set of only\n",
    "the elements that exists in a single set, but not in multuple\"\"\")\n",
    "print(f\"{a.symmetric_difference(b) = }\") # possible only with one set not more than 2 \n",
    "print(f\"{a ^ b ^ c  = }\")  # possible to check the symm difference with 2 or more set\n"
   ]
  },
  {
   "cell_type": "code",
   "execution_count": 113,
   "id": "6b23a441",
   "metadata": {},
   "outputs": [
    {
     "name": "stdout",
     "output_type": "stream",
     "text": [
      "{'0b10100', 1, 2, 3, 4, 5, (9, 10, 11, 12), 'apple'}\n",
      "{1, 2, 3, 4, 5}\n",
      "{2, 3, 4, 50}\n",
      "{1, 50, 100}\n"
     ]
    }
   ],
   "source": [
    "# a.add([1, 2, 3]) # we cannot add a list object to set\n",
    "# a.add(dict(a=10)) # we cannot add a dict object to set\n",
    "print({1, 2, 3, 3, 3, 4, 4, 5, \"apple\", (9, 10, 11, 12), bin(20)}) # tuple, string, numbers allowed to be part of set\n",
    "a.add((5)) # only one element at a time can be added\n",
    "print(a)\n",
    "\n",
    "b.remove(10) # give value to remove not index\n",
    "print(b)\n",
    "\n",
    "c.discard(101)\n",
    "print(c)"
   ]
  },
  {
   "cell_type": "code",
   "execution_count": 123,
   "id": "1c1c5de5",
   "metadata": {},
   "outputs": [
    {
     "name": "stdout",
     "output_type": "stream",
     "text": [
      "{0, 2, 100, 855, 1000, 6783}\n",
      "{2, 100, 855, 1000, 6783}\n",
      "{100, 855, 1000, 6783}\n",
      "{855, 1000, 6783}\n"
     ]
    }
   ],
   "source": [
    "d = {100, 6783, 855, 1000, 2, 0}\n",
    "print(d)\n",
    "d.pop()\n",
    "print(d)\n",
    "d.pop()\n",
    "print(d)\n",
    "d.pop()\n",
    "print(d)\n",
    "d.pop?"
   ]
  },
  {
   "cell_type": "code",
   "execution_count": 129,
   "id": "e958657e",
   "metadata": {
    "slideshow": {
     "slide_type": "subslide"
    }
   },
   "outputs": [
    {
     "name": "stdout",
     "output_type": "stream",
     "text": [
      "\n",
      "These are the methods available for tuple class under t1 variable, also these \n",
      "methods would be the same as dir(tuple)\n",
      "True\n",
      "['__add__', '__class__', '__class_getitem__', '__contains__', '__delattr__', '__dir__', '__doc__', '__eq__', '__format__', '__ge__', '__getattribute__', '__getitem__', '__getnewargs__', '__gt__', '__hash__', '__init__', '__init_subclass__', '__iter__', '__le__', '__len__', '__lt__', '__mul__', '__ne__', '__new__', '__reduce__', '__reduce_ex__', '__repr__', '__rmul__', '__setattr__', '__sizeof__', '__str__', '__subclasshook__', 'count', 'index']\n",
      "3\n",
      "1\n"
     ]
    }
   ],
   "source": [
    "# Tuple Methods\n",
    "\n",
    "t1 = 89, \"Canon\", \"Xeror\", -78+6j, 88.45, 89, 89, 1, 2, 2, 3\n",
    "\n",
    "print(\"\"\"\n",
    "These are the methods available for tuple class under t1 variable, also these \n",
    "methods would be the same as dir(tuple)\"\"\")\n",
    "print(dir(tuple) == dir(t1))\n",
    "print(dir(tuple))\n",
    "print(t1.count(89))\n",
    "print(t1.index(\"Canon\"))"
   ]
  },
  {
   "cell_type": "code",
   "execution_count": 149,
   "id": "a4c58784",
   "metadata": {
    "slideshow": {
     "slide_type": "subslide"
    }
   },
   "outputs": [
    {
     "name": "stdout",
     "output_type": "stream",
     "text": [
      "\n",
      "These are the methods available for dictionary class under hollywood_movie variable, also these \n",
      "methods would be the same as dir(dict)\n",
      "True\n",
      "['__class__', '__class_getitem__', '__contains__', '__delattr__', '__delitem__', '__dir__', '__doc__', '__eq__', '__format__', '__ge__', '__getattribute__', '__getitem__', '__gt__', '__hash__', '__init__', '__init_subclass__', '__ior__', '__iter__', '__le__', '__len__', '__lt__', '__ne__', '__new__', '__or__', '__reduce__', '__reduce_ex__', '__repr__', '__reversed__', '__ror__', '__setattr__', '__setitem__', '__sizeof__', '__str__', '__subclasshook__', 'clear', 'copy', 'fromkeys', 'get', 'items', 'keys', 'pop', 'popitem', 'setdefault', 'update', 'values']\n",
      "\n",
      "{'Marvel': 'Avengers', 'Disney': 'Dumbo', 'Universal Studios': 'FF9', 'Fox Studios': 'Avatar', 'Pixar Studios': 'Cars', 'Warner Bros': 'Inception'}\n",
      "FF9\n",
      "Dumbo\n",
      "dict_items([('Marvel', 'Avengers'), ('Disney', 'Dumbo'), ('Universal Studios', 'FF9'), ('Fox Studios', 'Avatar'), ('Pixar Studios', 'Cars'), ('Warner Bros', 'Inception')])\n",
      "dict_keys(['Marvel', 'Disney', 'Universal Studios', 'Fox Studios', 'Pixar Studios', 'Warner Bros'])\n",
      "dict_values(['Avengers', 'Dumbo', 'FF9', 'Avatar', 'Cars', 'Inception'])\n",
      "{'Marvel': 'Avengers', 'Disney': 'Dumbo', 'Universal Studios': 'FF9', 'Fox Studios': 'Avatar', 'Warner Bros': 'Inception'}\n",
      "{'Marvel': 'Avengers', 'Disney': 'Dumbo', 'Universal Studios': 'FF9', 'Fox Studios': 'Avatar'}\n",
      "{'Marvel': 'Avengers', 'Disney': 'Dumbo', 'Universal Studios': 'FF9'}\n",
      "\n",
      "{'a': 1, 'b': 2, 'c': 3}\n",
      "{'b': 10, 'd': 100, 'e': 7}\n",
      "{'a': 1, 'b': 2, 'c': 3, 'k': 20}\n",
      "{'a': 1, 'b': 2, 'c': 3, 'k': 20, 'z': (5-78j)}\n"
     ]
    }
   ],
   "source": [
    "# Dictionary Methods\n",
    "\n",
    "hollywood_movies = {\n",
    "    \"Marvel\": \"Avengers\",\n",
    "    \"Disney\": \"Dumbo\",\n",
    "    \"Universal Studios\": \"FF9\",\n",
    "    \"Fox Studios\": \"Avatar\",\n",
    "    \"Pixar Studios\": \"Cars\",\n",
    "    \"Warner Bros\": \"Inception\",\n",
    "}\n",
    "\n",
    "print(\"\"\"\n",
    "These are the methods available for dictionary class under hollywood_movie variable, also these \n",
    "methods would be the same as dir(dict)\"\"\")\n",
    "print(dir(dict) == dir(hollywood_movies))\n",
    "print(dir(dict))\n",
    "print()\n",
    "print(hollywood_movies)\n",
    "print(hollywood_movies[\"Universal Studios\"])\n",
    "print(hollywood_movies.get(\"Disney\"))\n",
    "print(hollywood_movies.items())\n",
    "print(hollywood_movies.keys())\n",
    "print(hollywood_movies.values())\n",
    "hollywood_movies.pop(\"Pixar Studios\")\n",
    "print(hollywood_movies)\n",
    "hollywood_movies.popitem()\n",
    "print(hollywood_movies)\n",
    "hollywood_movies.popitem()\n",
    "print(hollywood_movies)\n",
    "# hollywood_movies.pop(\"Syncopy\")\n",
    "print()\n",
    "\n",
    "d1 = {\"a\": 1, \"b\": 2, \"c\": 3}\n",
    "d2 = {\"b\": 10, \"d\": 100, \"e\": 7}\n",
    "\n",
    "d1 = dict(a=1, b=2, c=3)\n",
    "d2 = dict(b=10, d=100, e=7)\n",
    "print(d1)\n",
    "print(d2)\n",
    "\n",
    "d1.update(k=20)\n",
    "print(d1)\n",
    "\n",
    "d1[\"z\"] = 5-78j\n",
    "print(d1)"
   ]
  },
  {
   "cell_type": "markdown",
   "id": "a9564039",
   "metadata": {
    "slideshow": {
     "slide_type": "slide"
    }
   },
   "source": [
    "<h2><font color=#2a7bbd face=\"Trebuchet MS\">Python Functions</font></h2>"
   ]
  },
  {
   "cell_type": "markdown",
   "id": "c5ddf5b1",
   "metadata": {},
   "source": [
    "![Function Example.png](img/functions.png)"
   ]
  },
  {
   "cell_type": "markdown",
   "id": "98b6a5b1",
   "metadata": {
    "slideshow": {
     "slide_type": "subslide"
    }
   },
   "source": [
    "- ***A self-contained block of code that encapsulates a specific task or related group of tasks***\n",
    "\n",
    "- ***Code re-usage***"
   ]
  },
  {
   "cell_type": "markdown",
   "id": "054ed093",
   "metadata": {
    "slideshow": {
     "slide_type": "subslide"
    }
   },
   "source": [
    "![Function Example.png](img/functions_example.png)"
   ]
  },
  {
   "cell_type": "code",
   "execution_count": 155,
   "id": "fa79b018",
   "metadata": {
    "slideshow": {
     "slide_type": "subslide"
    }
   },
   "outputs": [
    {
     "name": "stdout",
     "output_type": "stream",
     "text": [
      "['a', 'e', 'i', 'o', 'u']\n"
     ]
    }
   ],
   "source": [
    "# Code\n",
    "def elements_using_print(give_me_an_iterable):\n",
    "    for ele in give_me_an_iterable:\n",
    "        print(ele)\n",
    "\n",
    "def elements_using_return(give_me_an_iterable):\n",
    "    return [ele for ele in give_me_an_iterable]\n",
    "\n",
    "# elements_using_print([10, 11, 12])\n",
    "# elements_using_return([\"a\", \"e\", \"i\", \"o\", \"u\"])\n",
    "\n",
    "\n",
    "# extra_elements = elements_using_print([10, 11, 12])\n",
    "# print(extra_elements)\n",
    "\n",
    "extra_elements = elements_using_return([\"a\", \"e\", \"i\", \"o\", \"u\"])\n",
    "print(extra_elements)"
   ]
  },
  {
   "cell_type": "code",
   "execution_count": null,
   "id": "5be1d543",
   "metadata": {},
   "outputs": [],
   "source": []
  },
  {
   "cell_type": "markdown",
   "id": "d0c43e9e",
   "metadata": {
    "slideshow": {
     "slide_type": "slide"
    }
   },
   "source": [
    "<h2><font color=#2a7bbd face=\"Trebuchet MS\">Inner Functions</font></h2>\n",
    "\n",
    "functions that you define inside other functions. In Python, this kind of function has direct access to variables and names defined in the enclosing function."
   ]
  },
  {
   "cell_type": "code",
   "execution_count": 3,
   "id": "0db530e2",
   "metadata": {
    "slideshow": {
     "slide_type": "subslide"
    }
   },
   "outputs": [],
   "source": [
    "# Code"
   ]
  },
  {
   "cell_type": "code",
   "execution_count": null,
   "id": "78fcda70",
   "metadata": {},
   "outputs": [],
   "source": []
  },
  {
   "cell_type": "markdown",
   "id": "0309b60b",
   "metadata": {
    "slideshow": {
     "slide_type": "slide"
    }
   },
   "source": [
    "<h2><font color=#2a7bbd face=\"Trebuchet MS\">Function Closures</font></h2>"
   ]
  },
  {
   "cell_type": "code",
   "execution_count": 4,
   "id": "aae1f550",
   "metadata": {
    "slideshow": {
     "slide_type": "subslide"
    }
   },
   "outputs": [],
   "source": [
    "# Code"
   ]
  }
 ],
 "metadata": {
  "celltoolbar": "Slideshow",
  "kernelspec": {
   "display_name": "Python 3 (ipykernel)",
   "language": "python",
   "name": "python3"
  },
  "language_info": {
   "codemirror_mode": {
    "name": "ipython",
    "version": 3
   },
   "file_extension": ".py",
   "mimetype": "text/x-python",
   "name": "python",
   "nbconvert_exporter": "python",
   "pygments_lexer": "ipython3",
   "version": "3.9.7"
  }
 },
 "nbformat": 4,
 "nbformat_minor": 5
}
