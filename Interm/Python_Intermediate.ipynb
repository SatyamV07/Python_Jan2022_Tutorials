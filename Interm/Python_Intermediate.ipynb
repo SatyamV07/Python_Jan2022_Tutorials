{
 "cells": [
  {
   "cell_type": "markdown",
   "id": "bf4d9efd",
   "metadata": {
    "slideshow": {
     "slide_type": "slide"
    }
   },
   "source": [
    "<h1><font color=#2a7bbd face=\"Trebuchet MS\">Python Intermediate Session</font></h1>"
   ]
  },
  {
   "cell_type": "markdown",
   "id": "658f4b63",
   "metadata": {
    "slideshow": {
     "slide_type": "slide"
    }
   },
   "source": [
    "<h2><font color=#2a7bbd face=\"Trebuchet MS\">Indexing and Slicing</font></h2>"
   ]
  },
  {
   "cell_type": "markdown",
   "id": "e1b55a2e",
   "metadata": {
    "slideshow": {
     "slide_type": "subslide"
    }
   },
   "source": [
    "![Python Indexing and Slicing](img/index_slice.png)"
   ]
  },
  {
   "cell_type": "code",
   "execution_count": 13,
   "id": "37292947",
   "metadata": {
    "slideshow": {
     "slide_type": "subslide"
    }
   },
   "outputs": [
    {
     "name": "stdout",
     "output_type": "stream",
     "text": [
      "['spam', 'ham', 'egg', 'bacon', 'spring', 'boot']\n",
      "Length of the List L1 = 6\n",
      "L1[3] = 'bacon'\n",
      "L1[-2] = 'spring'\n",
      "L1[4] = 'spring'\n",
      "L1[-6] = 'spam'\n",
      "L1[1] = 'ham'\n",
      "L1[0:1] = ['spam']\n",
      "L1[0:2] = ['spam', 'ham']\n",
      "L1[0:3] = ['spam', 'ham', 'egg']\n",
      "L1[3:6] = ['bacon', 'spring', 'boot']\n",
      "L1[:] = ['spam', 'ham', 'egg', 'bacon', 'spring', 'boot']\n",
      "L1[::] = ['spam', 'ham', 'egg', 'bacon', 'spring', 'boot']\n",
      "L1[-6:-1] = ['spam', 'ham', 'egg', 'bacon', 'spring']\n",
      "L1[-6:-2] = ['spam', 'ham', 'egg', 'bacon']\n",
      "L1[-6:-3] = ['spam', 'ham', 'egg']\n",
      "L1[-6:-4] = ['spam', 'ham']\n",
      "L1[-6:-5] = ['spam']\n",
      "L1[::2] = ['spam', 'egg', 'spring']\n",
      "L1[2::2] = ['egg', 'spring']\n",
      "L1[::-1] = ['boot', 'spring', 'bacon', 'egg', 'ham', 'spam']\n",
      "L1[-3::-2] = ['bacon', 'ham']\n"
     ]
    }
   ],
   "source": [
    "# Code\n",
    "L1 = [\"spam\", \"ham\", \"egg\", \"bacon\", \"spring\", \"boot\"]\n",
    "print(L1)\n",
    "# number of elements in list L1 = length of L1 = 6\n",
    "print(f\"Length of the List L1 = {len(L1)}\")\n",
    "\n",
    "# Indexing\n",
    "\n",
    "print(f\"{L1[3] = }\")\n",
    "print(f\"{L1[-2] = }\")\n",
    "print(f\"{L1[4] = }\")\n",
    "print(f\"{L1[-6] = }\")\n",
    "print(f\"{L1[1] = }\")\n",
    "\n",
    "# Forward Index Slicing\n",
    "# L1[start:stop:step] ==> Output: start(index):stop(index)-1\n",
    "\n",
    "print(f\"{L1[0:1] = }\")\n",
    "print(f\"{L1[0:2] = }\")\n",
    "print(f\"{L1[0:3] = }\")\n",
    "print(f\"{L1[3:6] = }\")\n",
    "print(f\"{L1[:] = }\")\n",
    "print(f\"{L1[::] = }\")\n",
    "\n",
    "# L1 = [\"spam\", \"ham\", \"egg\", \"bacon\", \"spring\", \"boot\"]\n",
    "\n",
    "# Reverse Index slicing\n",
    "print(f\"{L1[-6:-1] = }\")\n",
    "print(f\"{L1[-6:-2] = }\")\n",
    "print(f\"{L1[-6:-3] = }\")\n",
    "print(f\"{L1[-6:-4] = }\")\n",
    "print(f\"{L1[-6:-5] = }\")\n",
    "\n",
    "# Forward Listing using step values\n",
    "\n",
    "print(f\"{L1[::2] = }\")\n",
    "print(f\"{L1[2::2] = }\")\n",
    "\n",
    "# Reverse Listing\n",
    "print(f\"{L1[::-1] = }\")\n",
    "print(f\"{L1[-3::-2] = }\")\n"
   ]
  },
  {
   "cell_type": "markdown",
   "id": "d67bb02f",
   "metadata": {
    "slideshow": {
     "slide_type": "slide"
    }
   },
   "source": [
    "<h2><font color=#2a7bbd face=\"Trebuchet MS\">Comprehensions</font></h2>"
   ]
  },
  {
   "cell_type": "markdown",
   "id": "d03b7e2c",
   "metadata": {},
   "source": [
    "1 liners used to create iterables and also referenced to a variable"
   ]
  },
  {
   "cell_type": "code",
   "execution_count": 50,
   "id": "2f695a51",
   "metadata": {
    "slideshow": {
     "slide_type": "subslide"
    }
   },
   "outputs": [
    {
     "name": "stdout",
     "output_type": "stream",
     "text": [
      "Traditional Way\n",
      "===============\n",
      "['HI', 'THERE', 'HOW', 'ARE', 'YOU']\n",
      "\n",
      "Comprehensive Way\n",
      "=================\n",
      "['HI', 'THERE', 'HOW', 'ARE', 'YOU']\n",
      "\n",
      "[0, 1, 2, 3, 4, 5, 6, 7, 8, 9]\n",
      "[0, 2, 4, 6, 8, 10, 12, 14, 16, 18]\n",
      "[6, 7, 8, 9]\n",
      "HI\n",
      "THERE\n",
      "HOW\n",
      "ARE\n",
      "YOU\n"
     ]
    }
   ],
   "source": [
    "# List Comprehension\n",
    "# Basic for loop\n",
    "\n",
    "# for element in ['Hi', 'there', 'how', 'are', 'you']:\n",
    "#     print(element)\n",
    "\n",
    "# output = [\"HI\", \"THERE\", \"HOW\", \"ARE\", \"YOU\"]\n",
    "\n",
    "print(\"Traditional Way\")\n",
    "print(len(\"Traditional Way\")*\"=\")\n",
    "output = []\n",
    "for element in ['Hi', 'there', 'how', 'are', 'you']:\n",
    "    output.append(element.upper())\n",
    "\n",
    "print(output)\n",
    "   \n",
    "# step 1: get the value \"Hi\" to element variable\n",
    "# step 2: capitalize the \"Hi\" ==> \"HI\" in same element variable (upper method is being used)\n",
    "# step 3. put this \"HI\" into the list output (append method is being used)\n",
    "\n",
    "print()\n",
    "\n",
    "print(\"Comprehensive Way\")\n",
    "print(len(\"Comprehensive Way\")*\"=\")\n",
    "output = [element.upper() for element in ['Hi', 'there', 'how', 'are', 'you']]\n",
    "print(output)\n",
    "\n",
    "# step 1: create a variable output\n",
    "# step 2: using list ([]) use the for loop construct inside it\n",
    "# step 3: [<output> for <element> in <iterable>]\n",
    "\n",
    "print()\n",
    "# Example 2\n",
    "\n",
    "# for i in list(range(10)):\n",
    "#     print(i*2)\n",
    "\n",
    "range_of_numbers = list(range(10)) # this is an iterable\n",
    "multiplies_of_2 = [i*2 for i in range_of_numbers] # The output is also an iterable but multiplies of 2\n",
    "divisible_by_2 = [i for i in range_of_numbers if i > 5]\n",
    "\n",
    "print(range_of_numbers)\n",
    "print(multiplies_of_2)\n",
    "print(divisible_by_2)"
   ]
  },
  {
   "cell_type": "code",
   "execution_count": 67,
   "id": "57d5596c",
   "metadata": {
    "slideshow": {
     "slide_type": "subslide"
    }
   },
   "outputs": [
    {
     "name": "stdout",
     "output_type": "stream",
     "text": [
      "{0, 1, 2, 3, 4, 5, 6, 7, 8, 9}\n",
      "{0, 2, 4, 6, 8, 10, 12, 14, 16, 18}\n",
      "{8, 6}\n",
      "{0, 3, 6, 7, 8, 9, 12, 15}\n"
     ]
    }
   ],
   "source": [
    "# Set Comprehension\n",
    "\n",
    "range_of_numbers = set(range(10)) # this is an iterable\n",
    "\n",
    "multiplies_of_2 = {i*2 for i in range_of_numbers} # The output is also an iterable but multiplies of 2\n",
    "\n",
    "divisible_by_2 = {i for i in range_of_numbers if i > 5 if i % 2 == 0}\n",
    "\n",
    "divisible_by_2_elsecase = {i if i > 5 else i*3 for i in range_of_numbers } # if else case inside comprehension\n",
    "\n",
    "print(range_of_numbers)\n",
    "print(multiplies_of_2)\n",
    "print(divisible_by_2)\n",
    "print(divisible_by_2_elsecase)\n"
   ]
  },
  {
   "cell_type": "code",
   "execution_count": 76,
   "id": "b4d56194",
   "metadata": {
    "slideshow": {
     "slide_type": "subslide"
    }
   },
   "outputs": [
    {
     "name": "stdout",
     "output_type": "stream",
     "text": [
      "{'a': 100, 'b': 222, 'c': 3000}\n",
      "a 100\n",
      "b 222\n",
      "c 3000\n",
      "{'A': 200, 'B': 444, 'C': 6000}\n"
     ]
    }
   ],
   "source": [
    "# Dictionary Comprehension\n",
    "d1 = {\"a\": 100, \"b\": 222, \"c\": 3000}\n",
    "print(d1)\n",
    "\n",
    "for key, value in d1.items():\n",
    "    print(key, value)\n",
    "\n",
    "multiplied_d1 = {key.upper(): value*2 for key, value in d1.items()}\n",
    "print(multiplied_d1)"
   ]
  },
  {
   "cell_type": "markdown",
   "id": "922b42e2",
   "metadata": {
    "slideshow": {
     "slide_type": "slide"
    }
   },
   "source": [
    "<h2><font color=#2a7bbd face=\"Trebuchet MS\">Python Methods</font></h2>"
   ]
  },
  {
   "cell_type": "markdown",
   "id": "41eaa52c",
   "metadata": {},
   "source": [
    "- Method is called by its name, but it is associated to an object (dependent)\n",
    "\n",
    "- Method is implicitly passed the object on which it is invoked.\n",
    "\n",
    "- It may or may not return any data.\n",
    "\n",
    "- Method can operate on the data (instance variables) that is contained by a class"
   ]
  },
  {
   "cell_type": "code",
   "execution_count": 33,
   "id": "6c65b3a7",
   "metadata": {
    "slideshow": {
     "slide_type": "subslide"
    }
   },
   "outputs": [],
   "source": [
    "# String Methods"
   ]
  },
  {
   "cell_type": "code",
   "execution_count": 34,
   "id": "0b9b9ce9",
   "metadata": {
    "slideshow": {
     "slide_type": "subslide"
    }
   },
   "outputs": [],
   "source": [
    "# List Methods"
   ]
  },
  {
   "cell_type": "code",
   "execution_count": 35,
   "id": "a378f79c",
   "metadata": {
    "slideshow": {
     "slide_type": "subslide"
    }
   },
   "outputs": [],
   "source": [
    "# Set Methods"
   ]
  },
  {
   "cell_type": "code",
   "execution_count": 77,
   "id": "e958657e",
   "metadata": {
    "slideshow": {
     "slide_type": "subslide"
    }
   },
   "outputs": [],
   "source": [
    "# Tuple Methods"
   ]
  },
  {
   "cell_type": "code",
   "execution_count": 40,
   "id": "a4c58784",
   "metadata": {
    "slideshow": {
     "slide_type": "subslide"
    }
   },
   "outputs": [],
   "source": [
    "# Dictionary Methods"
   ]
  },
  {
   "cell_type": "markdown",
   "id": "a9564039",
   "metadata": {
    "slideshow": {
     "slide_type": "slide"
    }
   },
   "source": [
    "<h2><font color=#2a7bbd face=\"Trebuchet MS\">Python Functions</font></h2>\n"
   ]
  },
  {
   "cell_type": "markdown",
   "id": "c5ddf5b1",
   "metadata": {},
   "source": [
    "![Function Example.png](img/functions.png)"
   ]
  },
  {
   "cell_type": "markdown",
   "id": "98b6a5b1",
   "metadata": {
    "slideshow": {
     "slide_type": "subslide"
    }
   },
   "source": [
    "- ***A self-contained block of code that encapsulates a specific task or related group of tasks***\n",
    "\n",
    "- ***Code re-usage***"
   ]
  },
  {
   "cell_type": "markdown",
   "id": "054ed093",
   "metadata": {
    "slideshow": {
     "slide_type": "subslide"
    }
   },
   "source": [
    "![Function Example.png](img/functions_example.png)"
   ]
  },
  {
   "cell_type": "code",
   "execution_count": 1,
   "id": "fa79b018",
   "metadata": {
    "slideshow": {
     "slide_type": "subslide"
    }
   },
   "outputs": [],
   "source": [
    "# Code"
   ]
  }
 ],
 "metadata": {
  "celltoolbar": "Slideshow",
  "kernelspec": {
   "display_name": "Python 3 (ipykernel)",
   "language": "python",
   "name": "python3"
  },
  "language_info": {
   "codemirror_mode": {
    "name": "ipython",
    "version": 3
   },
   "file_extension": ".py",
   "mimetype": "text/x-python",
   "name": "python",
   "nbconvert_exporter": "python",
   "pygments_lexer": "ipython3",
   "version": "3.9.7"
  }
 },
 "nbformat": 4,
 "nbformat_minor": 5
}
